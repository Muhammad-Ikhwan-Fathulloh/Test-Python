{
  "nbformat": 4,
  "nbformat_minor": 0,
  "metadata": {
    "colab": {
      "name": "Latihan Python.ipynb",
      "provenance": [],
      "collapsed_sections": [],
      "authorship_tag": "ABX9TyM4NEXo6RjaFNkAxELqceXk",
      "include_colab_link": true
    },
    "kernelspec": {
      "name": "python3",
      "display_name": "Python 3"
    },
    "language_info": {
      "name": "python"
    }
  },
  "cells": [
    {
      "cell_type": "markdown",
      "metadata": {
        "id": "view-in-github",
        "colab_type": "text"
      },
      "source": [
        "<a href=\"https://colab.research.google.com/github/Muhammad-Ikhwan-Fathulloh/Test-Python/blob/main/Latihan_Python.ipynb\" target=\"_parent\"><img src=\"https://colab.research.google.com/assets/colab-badge.svg\" alt=\"Open In Colab\"/></a>"
      ]
    },
    {
      "cell_type": "markdown",
      "source": [
        "Nama : Muhammad Ikhwan Fathulloh\n",
        "<br>\n",
        "Kelas : Better OFA"
      ],
      "metadata": {
        "id": "a3I20GVkRayP"
      }
    },
    {
      "cell_type": "markdown",
      "source": [
        "**Soal 1 Kalkulator**"
      ],
      "metadata": {
        "id": "9nU3wvupBTR1"
      }
    },
    {
      "cell_type": "code",
      "execution_count": 18,
      "metadata": {
        "colab": {
          "base_uri": "https://localhost:8080/"
        },
        "id": "BMAV_3s1lj_f",
        "outputId": "f92cab26-de04-4416-920d-4b4251e477ca"
      },
      "outputs": [
        {
          "name": "stdout",
          "output_type": "stream",
          "text": [
            "Masukkan operasi hitung: +\n",
            "Masukkan bilangan pertama: 5\n",
            "Masukkan bilangan kedua: 6\n"
          ]
        }
      ],
      "source": [
        "operasi = input('Masukkan operasi hitung: ')\n",
        "bilangan_1 = eval(input('Masukkan bilangan pertama: '))\n",
        "bilangan_2 = eval(input('Masukkan bilangan kedua: '))"
      ]
    },
    {
      "cell_type": "markdown",
      "source": [
        "Kondisi Operasi"
      ],
      "metadata": {
        "id": "SqMQU9sAmASy"
      }
    },
    {
      "cell_type": "code",
      "source": [
        "if str(operasi) == '+':\n",
        "  print('Hasil yang diperoleh adalah', bilangan_1 + bilangan_2 ,':)')\n",
        "elif str(operasi) == '-':\n",
        "  print('Hasil yang diperoleh adalah ', bilangan_1 - bilangan_2 , ':)')\n",
        "elif str(operasi) == '*':\n",
        "  print('Hasil yang diperoleh adalah ', bilangan_1 * bilangan_2 , ' :)')\n",
        "elif str(operasi) == '/':\n",
        "  if bilangan_1 == 0 or bilangan_2 == 0:\n",
        "    print('Maaf keterbagian dengan 0 tidak terdefinisi :(')\n",
        "  else:\n",
        "    print('Hasil yang diperoleh adalah ', bilangan_1 / bilangan_2 , ' :)')\n",
        "elif str(operasi) == '%':\n",
        "  print('Hasil yang diperoleh adalah ', bilangan_1 % bilangan_2 , ' :)')\n",
        "else:\n",
        "  print('Maaf Operator tidak dikenali')\n",
        "\n"
      ],
      "metadata": {
        "colab": {
          "base_uri": "https://localhost:8080/"
        },
        "id": "zvpLKjaimE0v",
        "outputId": "ae29e5e5-b0d5-47fe-dd90-dd08851ec409"
      },
      "execution_count": 21,
      "outputs": [
        {
          "output_type": "stream",
          "name": "stdout",
          "text": [
            "Hasil yang diperoleh adalah 11 :)\n"
          ]
        }
      ]
    },
    {
      "cell_type": "markdown",
      "source": [
        "**Soal 2 Penggabungan**"
      ],
      "metadata": {
        "id": "Gr2bTZthRP_e"
      }
    },
    {
      "cell_type": "code",
      "source": [
        "bil_1 = eval(input('Masukkan bilangan pertama: '))\n",
        "bil_2 = eval(input('Masukkan bilangan kedua: '))"
      ],
      "metadata": {
        "colab": {
          "base_uri": "https://localhost:8080/"
        },
        "id": "s-sI5qYZRT2h",
        "outputId": "d4499c3f-5988-474d-fce2-8fdb02603f21"
      },
      "execution_count": 22,
      "outputs": [
        {
          "name": "stdout",
          "output_type": "stream",
          "text": [
            "Masukkan bilangan pertama: 2001\n",
            "Masukkan bilangan kedua: 2003\n"
          ]
        }
      ]
    },
    {
      "cell_type": "markdown",
      "source": [
        "Operasi"
      ],
      "metadata": {
        "id": "hlFyhQn1dXdL"
      }
    },
    {
      "cell_type": "code",
      "source": [
        "print('Hasil yang penjumlahan adalah', bil_1 + bil_2 ,':)')\n",
        "print('Hasil yang penggabungan adalah', str(bil_1)+str(bil_2) ,':)')"
      ],
      "metadata": {
        "colab": {
          "base_uri": "https://localhost:8080/"
        },
        "id": "_03estJOdZvv",
        "outputId": "380d276f-7c9a-43b1-ebe9-cb861e87f994"
      },
      "execution_count": 25,
      "outputs": [
        {
          "output_type": "stream",
          "name": "stdout",
          "text": [
            "Hasil yang penjumlahan adalah 4004 :)\n",
            "Hasil yang penggabungan adalah 20012003 :)\n"
          ]
        }
      ]
    }
  ]
}